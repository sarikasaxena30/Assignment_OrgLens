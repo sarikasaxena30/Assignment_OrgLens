{
 "cells": [
  {
   "cell_type": "markdown",
   "id": "77d52e61",
   "metadata": {},
   "source": [
    "# Answer-1"
   ]
  },
  {
   "cell_type": "code",
   "execution_count": 1,
   "id": "60a70c16",
   "metadata": {
    "scrolled": true
   },
   "outputs": [
    {
     "data": {
      "image/png": "[encoded data removed]",
      "text/plain": [
       "<Figure size 432x288 with 1 Axes>"
      ]
     },
     "metadata": {
      "needs_background": "light"
     },
     "output_type": "display_data"
    }
   ],
   "source": [
    "import csv\n",
    "import math\n",
    "import matplotlib.pyplot as plt\n",
    "\n",
    "# Read the CSV file and extract 'Mark' values\n",
    "names = []\n",
    "marks = []\n",
    "with open('marks.csv', 'r') as file:\n",
    "    reader = csv.reader(file)\n",
    "    next(reader)  # Skip header\n",
    "    for row in reader:\n",
    "        names.append(row[0])\n",
    "        marks.append(float(row[1]))\n",
    "\n",
    "# Calculate Mean \n",
    "def calculate_mean(data):\n",
    "    total = sum(data)\n",
    "    count = len(data)\n",
    "    return total / count\n",
    "\n",
    "mean = calculate_mean(marks)\n",
    "\n",
    "# Calculate Variance\n",
    "def calculate_variance(data, mean):\n",
    "    total = sum((x - mean) ** 2 for x in data)\n",
    "    count = len(data)\n",
    "    return total / count\n",
    "\n",
    "variance = calculate_variance(marks, mean)\n",
    "\n",
    "# Calculate Standard Deviation (Square root of variance)\n",
    "def calculate_std_dev(variance):\n",
    "    return math.sqrt(variance)\n",
    "\n",
    "std_dev = calculate_std_dev(variance)\n",
    "\n",
    "# Write the Mean, Variance, and Standard Deviation to a new CSV file\n",
    "with open('statistics.csv', 'w', newline='') as file:\n",
    "    writer = csv.writer(file)\n",
    "    writer.writerow(['Mean', 'Variance', 'Standard Deviation'])\n",
    "    writer.writerow([mean, variance, std_dev])\n",
    "\n",
    "# Step 6: Plotting the Graph\n",
    "# X-axis as index, Y-axis as Marks\n",
    "x = list(range(1, len(marks) + 1))\n",
    "\n",
    "# Plot the Marks\n",
    "plt.plot(x, marks, marker='o', label='Marks')\n",
    "\n",
    "# Add mean and SD lines\n",
    "plt.axhline(y=mean, color='r', linestyle='--', label=f'Mean: {mean:.2f}')\n",
    "plt.axhline(y=mean + std_dev, color='g', linestyle='--', label=f'SD: {std_dev:.2f}')\n",
    "plt.axhline(y=mean - std_dev, color='g', linestyle='--')\n",
    "\n",
    "# Label the graph\n",
    "plt.title('Marks Distribution with Mean and Standard Deviation')\n",
    "plt.xlabel('Student Index')\n",
    "plt.ylabel('Marks')\n",
    "plt.legend()\n",
    "\n",
    "# Show the graph\n",
    "plt.show()\n"
   ]
  },
  {
   "cell_type": "markdown",
   "id": "012a6c0e",
   "metadata": {},
   "source": [
    "# Answer-2"
   ]
  },
  {
   "cell_type": "code",
   "execution_count": 2,
   "id": "60c8eb55",
   "metadata": {},
   "outputs": [
    {
     "name": "stdout",
     "output_type": "stream",
     "text": [
      "Enter a number: 10\n",
      "Original number: 10\n",
      "Modified number (Decimal): 14\n",
      "Modified number (Binary): 0b1110\n"
     ]
    }
   ],
   "source": [
    "def set_two_msbs(n):\n",
    "    # Find the bit length of the number\n",
    "    bits = n.bit_length()\n",
    "\n",
    "    # Calculate the mask by setting the two most significant bits to 1\n",
    "    mask = (1 << (bits - 1)) | (1 << (bits - 2))\n",
    "\n",
    "    # Apply the mask using bitwise OR to set the two MSBs to 1\n",
    "    modified_number = n | mask\n",
    "\n",
    "    # Print the result in decimal and binary formats\n",
    "    print(\"Original number:\", n)\n",
    "    print(\"Modified number (Decimal):\", modified_number)\n",
    "    print(\"Modified number (Binary):\", bin(modified_number))\n",
    "\n",
    "# Get input from the user\n",
    "number = int(input(\"Enter a number: \"))\n",
    "\n",
    "# Call the function to set two MSBs and print the result\n",
    "set_two_msbs(number)\n"
   ]
  },
  {
   "cell_type": "markdown",
   "id": "aae78abe",
   "metadata": {},
   "source": [
    "# Answer-3"
   ]
  },
  {
   "cell_type": "code",
   "execution_count": 3,
   "id": "e93083c2",
   "metadata": {},
   "outputs": [
    {
     "name": "stdout",
     "output_type": "stream",
     "text": [
      "Enter the balance amount: 1300\n",
      "Breakdown of notes:\n",
      "500 : 2 notes\n",
      "200 : 1 notes\n",
      "100 : 1 notes\n"
     ]
    }
   ],
   "source": [
    "def calculate_notes(amount):\n",
    "    # Available denominations in descending order\n",
    "    denominations = [2000, 500, 200, 100, 50, 20, 10, 5, 2, 1]\n",
    "\n",
    "    # Dictionary to store the number of notes for each denomination\n",
    "    note_count = {}\n",
    "\n",
    "    # Iterate over each denomination to calculate how many notes are required\n",
    "    for note in denominations:\n",
    "        if amount >= note:\n",
    "            note_count[note] = amount // note  # Calculate the number of notes for current denomination\n",
    "            amount = amount % note  # Reduce the amount by the value of those notes\n",
    "\n",
    "    # Display the notes breakdown\n",
    "    print(\"Breakdown of notes:\")\n",
    "    for note, count in note_count.items():\n",
    "        print(f\"{note} : {count} notes\")\n",
    "\n",
    "# Input: The amount the shopkeeper needs to return\n",
    "balance_amount = int(input(\"Enter the balance amount: \"))\n",
    "\n",
    "# Call the function to calculate the minimum notes\n",
    "calculate_notes(balance_amount)\n"
   ]
  },
  {
   "cell_type": "markdown",
   "id": "7976eb58",
   "metadata": {},
   "source": [
    "# Answer-4"
   ]
  },
  {
   "cell_type": "code",
   "execution_count": 5,
   "id": "22e0d88c",
   "metadata": {},
   "outputs": [
    {
     "name": "stdout",
     "output_type": "stream",
     "text": [
      "Encryption complete! Encrypted file: input2_enc.txt\n"
     ]
    }
   ],
   "source": [
    "def caesar_cipher(text, shift):\n",
    "    encrypted_text = []\n",
    "    for char in text:\n",
    "        # Shift only alphabetic characters, ignoring others\n",
    "        if char.isalpha():\n",
    "            shift_base = ord('a') if char.islower() else ord('A')\n",
    "            shifted_char = chr(shift_base + (ord(char) - shift_base + shift) % 26)\n",
    "            encrypted_text.append(shifted_char)\n",
    "        else:\n",
    "            encrypted_text.append(char)  # Non-alphabetical characters are not shifted\n",
    "    return ''.join(encrypted_text)\n",
    "\n",
    "def xor_encrypt(text, salt):\n",
    "    salt_len = len(salt)\n",
    "    encrypted_text = []\n",
    "    for i, char in enumerate(text):\n",
    "        # XOR with the corresponding character in the salt, cycling through the salt\n",
    "        encrypted_char = chr(ord(char) ^ ord(salt[i % salt_len]))\n",
    "        encrypted_text.append(encrypted_char)\n",
    "    return ''.join(encrypted_text)\n",
    "\n",
    "def encrypt_file(filename, shift, salt):\n",
    "    # Read the content from the file\n",
    "    with open(filename, 'r') as file:\n",
    "        original_text = file.read()\n",
    "\n",
    "    # Step 1: Encrypt using Caesar cipher\n",
    "    caesar_encrypted = caesar_cipher(original_text, shift)\n",
    "\n",
    "    # Step 2: Apply XOR encryption using the salt\n",
    "    final_encrypted = xor_encrypt(caesar_encrypted, salt)\n",
    "\n",
    "    # Step 3: Write the encrypted content to a new file\n",
    "    output_filename = f\"{filename.split('.')[0]}_enc.txt\"\n",
    "    with open(output_filename, 'w') as encrypted_file:\n",
    "        encrypted_file.write(final_encrypted)\n",
    "\n",
    "    print(f\"Encryption complete! Encrypted file: {output_filename}\")\n",
    "\n",
    "# Example usage\n",
    "if __name__ == \"__main__\":\n",
    "    file_to_encrypt = 'input2.txt'  # The file you want to encrypt\n",
    "    shift_value = 3                # Caesar cipher shift\n",
    "    xor_salt = 'abc'               # Salt for XOR encryption\n",
    "    encrypt_file(file_to_encrypt, shift_value, xor_salt)\n"
   ]
  },
  {
   "cell_type": "markdown",
   "id": "a0c7ec4e",
   "metadata": {},
   "source": [
    "# Answer-5"
   ]
  },
  {
   "cell_type": "markdown",
   "id": "98f2a981",
   "metadata": {},
   "source": [
    "# Using Inbuilt Function\n"
   ]
  },
  {
   "cell_type": "code",
   "execution_count": 10,
   "id": "29c82257",
   "metadata": {},
   "outputs": [
    {
     "data": {
      "image/png": "[encoded data removed]",
      "text/plain": [
       "<Figure size 432x288 with 1 Axes>"
      ]
     },
     "metadata": {
      "needs_background": "light"
     },
     "output_type": "display_data"
    }
   ],
   "source": [
    "import math\n",
    "import numpy as np\n",
    "import matplotlib.pyplot as plt\n",
    "\n",
    "# Define the function to calculate cos(x) using Maclaurin Series\n",
    "def cos_maclaurin(x, terms=10):\n",
    "    \"\"\"Calculate cos(x) using the Maclaurin series expansion.\"\"\"\n",
    "    result = 0\n",
    "    for n in range(terms):\n",
    "        # (-1)^n * x^(2n) / (2n)!\n",
    "        term = math.pow(-1, n) * math.pow(x, 2 * n) / math.factorial(2 * n)\n",
    "        result += term\n",
    "    return result\n",
    "\n",
    "# Define the range of x values (from -2π to 2π)\n",
    "x_values = np.linspace(-2 * np.pi, 2 * np.pi, 100)\n",
    "\n",
    "# Calculate the cos(x) using Maclaurin series\n",
    "maclaurin_cos_values = [cos_maclaurin(x, terms=10) for x in x_values]\n",
    "\n",
    "# Plot the Maclaurin series approximation\n",
    "plt.plot(x_values, maclaurin_cos_values, label='Maclaurin Series (cos(x))', color='b')\n",
    "\n",
    "# Plot the actual cos(x) using numpy for reference\n",
    "actual_cos_values = np.cos(x_values)\n",
    "plt.plot(x_values, actual_cos_values, label='Actual cos(x)', color='r', linestyle='--')\n",
    "\n",
    "# Add titles and labels\n",
    "plt.title('Maclaurin Series Approximation of cos(x)')\n",
    "plt.xlabel('x')\n",
    "plt.ylabel('cos(x)')\n",
    "plt.axhline(0, color='black',linewidth=0.5)\n",
    "plt.axvline(0, color='black',linewidth=0.5)\n",
    "plt.legend()\n",
    "\n",
    "# Show the plot\n",
    "plt.show()\n"
   ]
  },
  {
   "cell_type": "markdown",
   "id": "04e1dae4",
   "metadata": {},
   "source": [
    "# Answer-6"
   ]
  },
  {
   "cell_type": "code",
   "execution_count": 8,
   "id": "1b08391c",
   "metadata": {},
   "outputs": [
    {
     "name": "stdout",
     "output_type": "stream",
     "text": [
      "{\n",
      "    \"age\": {\n",
      "        \"json1_value\": 30,\n",
      "        \"json2_value\": 28\n",
      "    },\n",
      "    \"address\": {\n",
      "        \"address/zipcode\": {\n",
      "            \"json1_value\": \"12345\",\n",
      "            \"json2_value\": \"54321\"\n",
      "        }\n",
      "    },\n",
      "    \"skills\": {\n",
      "        \"json1_value\": [\n",
      "            \"Python\",\n",
      "            \"Machine Learning\"\n",
      "        ],\n",
      "        \"json2_value\": [\n",
      "            \"Python\",\n",
      "            \"Data Science\"\n",
      "        ]\n",
      "    }\n",
      "}\n"
     ]
    }
   ],
   "source": [
    "import json\n",
    "\n",
    "def compare_json(json1, json2, path=\"\"):\n",
    "    differences = {}\n",
    "    \n",
    "    # Iterate over the keys in json1\n",
    "    for key in json1:\n",
    "        current_path = f\"{path}/{key}\" if path else key\n",
    "        \n",
    "        # If the key exists in both JSON objects\n",
    "        if key in json2:\n",
    "            if isinstance(json1[key], dict) and isinstance(json2[key], dict):\n",
    "                # If both values are dictionaries, compare recursively\n",
    "                sub_diff = compare_json(json1[key], json2[key], current_path)\n",
    "                if sub_diff:\n",
    "                    differences[current_path] = sub_diff\n",
    "            elif json1[key] != json2[key]:\n",
    "                # If the values are different, log the difference\n",
    "                differences[current_path] = {\"json1_value\": json1[key], \"json2_value\": json2[key]}\n",
    "        else:\n",
    "            # If the key is missing in json2\n",
    "            differences[current_path] = {\"json1_value\": json1[key], \"json2_value\": \"Missing in json2\"}\n",
    "\n",
    "    # Check for keys in json2 that are not in json1\n",
    "    for key in json2:\n",
    "        current_path = f\"{path}/{key}\" if path else key\n",
    "        if key not in json1:\n",
    "            differences[current_path] = {\"json1_value\": \"Missing in json1\", \"json2_value\": json2[key]}\n",
    "\n",
    "    return differences\n",
    "\n",
    "# Example usage\n",
    "if __name__ == \"__main__\":\n",
    "    json1 = {\n",
    "        \"name\": \"Alice\",\n",
    "        \"age\": 30,\n",
    "        \"address\": {\n",
    "            \"city\": \"Wonderland\",\n",
    "            \"zipcode\": \"12345\"\n",
    "        },\n",
    "        \"skills\": [\"Python\", \"Machine Learning\"]\n",
    "    }\n",
    "\n",
    "    json2 = {\n",
    "        \"name\": \"Alice\",\n",
    "        \"age\": 28,\n",
    "        \"address\": {\n",
    "            \"city\": \"Wonderland\",\n",
    "            \"zipcode\": \"54321\"\n",
    "        },\n",
    "        \"skills\": [\"Python\", \"Data Science\"]\n",
    "    }\n",
    "\n",
    "    diff = compare_json(json1, json2)\n",
    "\n",
    "    print(json.dumps(diff, indent=4))\n"
   ]
  },
  {
   "cell_type": "code",
   "execution_count": null,
   "id": "7f7aac76",
   "metadata": {},
   "outputs": [],
   "source": []
  }
 ],
 "metadata": {
  "kernelspec": {
   "display_name": "Python 3 (ipykernel)",
   "language": "python",
   "name": "python3"
  },
  "language_info": {
   "codemirror_mode": {
    "name": "ipython",
    "version": 3
   },
   "file_extension": ".py",
   "mimetype": "text/x-python",
   "name": "python",
   "nbconvert_exporter": "python",
   "pygments_lexer": "ipython3",
   "version": "3.9.12"
  }
 },
 "nbformat": 4,
 "nbformat_minor": 5
}
